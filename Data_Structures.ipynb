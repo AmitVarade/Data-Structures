{
  "nbformat": 4,
  "nbformat_minor": 0,
  "metadata": {
    "colab": {
      "provenance": []
    },
    "kernelspec": {
      "name": "python3",
      "display_name": "Python 3"
    },
    "language_info": {
      "name": "python"
    }
  },
  "cells": [
    {
      "cell_type": "code",
      "execution_count": null,
      "metadata": {
        "id": "yBJM_d770lMM"
      },
      "outputs": [],
      "source": []
    },
    {
      "cell_type": "code",
      "source": [
        "# 1.Write a code to reverse a string.\n",
        "def reverse_string(s):\n",
        "    return s[::-1]\n"
      ],
      "metadata": {
        "id": "PGb71k_J2FkD"
      },
      "execution_count": null,
      "outputs": []
    },
    {
      "cell_type": "code",
      "source": [
        "# 2.Write a code to count the number of vowels in a string.\n",
        "def count_vowels(s):\n",
        "    vowels = 'aeiouAEIOU'\n",
        "    count = 0\n",
        "    for char in s:\n",
        "        if char in vowels:\n",
        "            count += 1\n",
        "    return count\n"
      ],
      "metadata": {
        "id": "dGJJ9hhY9w9R"
      },
      "execution_count": null,
      "outputs": []
    },
    {
      "cell_type": "code",
      "source": [
        "# 3.Write a code to check if a given string is a palindrome or not.\n",
        "def is_palindrome(s):\n",
        "    # Remove any spaces and convert to lowercase for case-insensitive comparison\n",
        "    s = s.replace(\" \", \"\").lower()\n",
        "    # Check if the string is equal to its reverse\n",
        "    return s == s[::-1]\n",
        "\n",
        "# Example usage\n",
        "input_string = \"A man a plan a canal Panama\"\n",
        "if is_palindrome(input_string):\n",
        "    print(\"The string is a palindrome.\")\n",
        "else:\n",
        "    print(\"The string is not a palindrome.\")\n"
      ],
      "metadata": {
        "id": "TZO57i1L-an1"
      },
      "execution_count": null,
      "outputs": []
    },
    {
      "cell_type": "code",
      "source": [
        "# 4.Write a code to check if two given strings are anagrams of each other.\n",
        "def are_anagrams(str1, str2):\n",
        "    # Remove spaces and convert to lowercase for case-insensitive comparison\n",
        "    str1 = str1.replace(\" \", \"\").lower()\n",
        "    str2 = str2.replace(\" \", \"\").lower()\n",
        "\n",
        "    # Check if sorted characters of both strings are the same\n",
        "    return sorted(str1) == sorted(str2)\n",
        "\n",
        "# Example usage\n",
        "string1 = \"Listen\"\n",
        "string2 = \"Silent\"\n",
        "if are_anagrams(string1, string2):\n",
        "    print(\"The strings are anagrams.\")\n",
        "else:\n",
        "    print(\"The strings are not anagrams.\")"
      ],
      "metadata": {
        "id": "73KiYRLa-7-a"
      },
      "execution_count": null,
      "outputs": []
    },
    {
      "cell_type": "code",
      "source": [
        "# 5.Write a code to find all occurrences of a given substring within another string.\n",
        "def find_substring_occurrences(main_str, sub_str):\n",
        "    # List to store the starting indices of all occurrences of the substring\n",
        "    indices = []\n",
        "    start = 0\n",
        "\n",
        "    # Loop to find all occurrences of the substring\n",
        "    while start < len(main_str):\n",
        "        # Find the substring starting from index 'start'\n",
        "        start = main_str.find(sub_str, start)\n",
        "\n",
        "        # If no occurrence is found, break the loop\n",
        "        if start == -1:\n",
        "            break\n",
        "\n",
        "        # Append the current index to the list\n",
        "        indices.append(start)\n",
        "\n",
        "        # Move start index to the next character for the next search\n",
        "        start += 1\n",
        "\n",
        "    return indices\n",
        "\n",
        "# Example usage\n",
        "main_string = \"This is a test string, and this is another test.\"\n",
        "substring = \"is\"\n",
        "occurrences = find_substring_occurrences(main_string, substring)\n",
        "print(f\"Occurrences of '{substring}' found at indices: {occurrences}\")\n"
      ],
      "metadata": {
        "id": "PWZVAUXG_Va2"
      },
      "execution_count": null,
      "outputs": []
    },
    {
      "cell_type": "code",
      "source": [
        "# 6.Write a code to perform basic string compression using the counts of repeated characters.\n",
        "def compress_string(s):\n",
        "    compressed = []\n",
        "    count = 1  # Start with a count of 1 for the first character\n",
        "\n",
        "    for i in range(1, len(s)):\n",
        "        if s[i] == s[i - 1]:  # If current character is the same as the previous one\n",
        "            count += 1\n",
        "        else:\n",
        "            compressed.append(s[i - 1])  # Add previous character to the result\n",
        "            if count > 1:\n",
        "                compressed.append(str(count))  # Add the count if more than 1\n",
        "            count = 1  # Reset count for the new character\n",
        "\n",
        "    # Append the last character and its count\n",
        "    compressed.append(s[-1])\n",
        "    if count > 1:\n",
        "        compressed.append(str(count))\n",
        "\n",
        "    # Join the list into a compressed string\n",
        "    return ''.join(compressed)\n",
        "\n",
        "# Example usage\n",
        "input_string = \"aaabbbccccdd\"\n",
        "compressed_string = compress_string(input_string)\n",
        "print(\"Compressed String:\", compressed_string)\n"
      ],
      "metadata": {
        "id": "ebBd5LfcAVcw"
      },
      "execution_count": null,
      "outputs": []
    },
    {
      "cell_type": "code",
      "source": [
        "# 7. Write a code to determine if a string has all unique characters.\n",
        "def has_unique_characters(s):\n",
        "    # Use a set to store characters that have been encountered\n",
        "    seen_chars = set()\n",
        "\n",
        "    for char in s:\n",
        "        if char in seen_chars:  # If the character has been seen before, it's not unique\n",
        "            return False\n",
        "        seen_chars.add(char)  # Add the character to the set\n",
        "\n",
        "    return True  # All characters were unique\n",
        "\n",
        "# Example usage\n",
        "input_string = \"abcdefg\"\n",
        "if has_unique_characters(input_string):\n",
        "    print(\"The string has all unique characters.\")\n",
        "else:\n",
        "    print(\"The string does not have all unique characters.\")\n"
      ],
      "metadata": {
        "id": "WjPPR02IBCdu"
      },
      "execution_count": null,
      "outputs": []
    },
    {
      "cell_type": "code",
      "source": [
        "# 8.Write a code to convert a given string to uppercase or lowercase.\n",
        "def convert_case(s, to_upper=True):\n",
        "    if to_upper:\n",
        "        return s.upper()  # Convert to uppercase\n",
        "    else:\n",
        "        return s.lower()  # Convert to lowercase\n",
        "\n",
        "# Example usage\n",
        "input_string = \"Hello, World!\"\n",
        "\n",
        "# Convert to uppercase\n",
        "uppercase_string = convert_case(input_string, to_upper=True)\n",
        "print(\"Uppercase:\", uppercase_string)\n",
        "\n",
        "# Convert to lowercase\n",
        "lowercase_string = convert_case(input_string, to_upper=False)\n",
        "print(\"Lowercase:\", lowercase_string)\n"
      ],
      "metadata": {
        "id": "dWRzsFZYBUxD"
      },
      "execution_count": null,
      "outputs": []
    },
    {
      "cell_type": "code",
      "source": [
        "# 9.Write a code to count the number of words in a string.\n",
        "def count_words(s):\n",
        "    # Split the string into words using space as the delimiter\n",
        "    words = s.split()\n",
        "\n",
        "    # Return the number of words\n",
        "    return len(words)\n",
        "\n",
        "# Example usage\n",
        "input_string = \"Hello, how are you doing today?\"\n",
        "word_count = count_words(input_string)\n",
        "print(\"Number of words:\", word_count)\n"
      ],
      "metadata": {
        "id": "I-I_LufuBqvl"
      },
      "execution_count": null,
      "outputs": []
    },
    {
      "cell_type": "code",
      "source": [
        "# 10.Write a code to concatenate two strings without using the + operator.\n",
        "def concatenate_strings(str1, str2):\n",
        "    return str1.join([str2])  # Using join() to concatenate the strings\n",
        "\n",
        "# Example usage\n",
        "string1 = \"Hello\"\n",
        "string2 = \"World\"\n",
        "concatenated_string = concatenate_strings(string1, string2)\n",
        "print(\"Concatenated String:\", concatenated_string)\n"
      ],
      "metadata": {
        "id": "v7Pg_mChCTJ1"
      },
      "execution_count": null,
      "outputs": []
    },
    {
      "cell_type": "code",
      "source": [
        "# 11.Write a code to remove all occurrences of a specific element from a list.\n",
        "def remove_element(lst, element):\n",
        "    # Use list comprehension to filter out the specified element\n",
        "    return [item for item in lst if item != element]\n",
        "\n",
        "# Example usage\n",
        "input_list = [1, 2, 3, 4, 2, 5, 2]\n",
        "element_to_remove = 2\n",
        "result_list = remove_element(input_list, element_to_remove)\n",
        "print(\"List after removal:\", result_list)\n"
      ],
      "metadata": {
        "id": "o6DQ8CRFCoOo"
      },
      "execution_count": null,
      "outputs": []
    },
    {
      "cell_type": "code",
      "source": [
        "# 12.Implement a code to find the second largest number in a given list of integers.\n",
        "def second_largest(numbers):\n",
        "    # If the list has fewer than two elements, return None (second largest cannot be found)\n",
        "    if len(numbers) < 2:\n",
        "        return None\n",
        "\n",
        "    # Initialize the largest and second largest as negative infinity\n",
        "    largest = second_largest = float('-inf')\n",
        "\n",
        "    for num in numbers:\n",
        "        if num > largest:\n",
        "            second_largest = largest  # Update second largest before largest\n",
        "            largest = num\n",
        "        elif num > second_largest and num != largest:\n",
        "            second_largest = num\n",
        "\n",
        "    # If second largest is still negative infinity, it means no second largest was found\n",
        "    if second_largest == float('-inf'):\n",
        "        return None\n",
        "\n",
        "    return second_largest\n",
        "\n",
        "# Example usage:\n",
        "numbers = [12, 35, 1, 10, 34, 1]\n",
        "result = second_largest(numbers)\n",
        "print(\"The second largest number is:\", result)\n"
      ],
      "metadata": {
        "id": "ALzGquPWC_NC"
      },
      "execution_count": null,
      "outputs": []
    },
    {
      "cell_type": "code",
      "source": [
        "\"\"\"\n",
        "13.Create a code to count the occurrences of each element in a list and return a dictionary with elements as\n",
        "keys and their counts as values.\n",
        "\"\"\"\n",
        "def count_occurrences(lst):\n",
        "    # Initialize an empty dictionary to store the counts\n",
        "    count_dict = {}\n",
        "\n",
        "    # Loop through each element in the list\n",
        "    for element in lst:\n",
        "        if element in count_dict:\n",
        "            # If the element is already in the dictionary, increment its count\n",
        "            count_dict[element] += 1\n",
        "        else:\n",
        "            # If the element is not in the dictionary, add it with count 1\n",
        "            count_dict[element] = 1\n",
        "\n",
        "    return count_dict\n",
        "\n",
        "# Example usage:\n",
        "numbers = [1, 2, 2, 3, 3, 3, 4, 5, 5, 5]\n",
        "result = count_occurrences(numbers)\n",
        "print(\"Occurrences of each element:\", result)\n"
      ],
      "metadata": {
        "id": "eCF2o5PjvG8q"
      },
      "execution_count": null,
      "outputs": []
    },
    {
      "cell_type": "code",
      "source": [
        "# 14.Write a code to reverse a list in-place without using any built-in reverse functions.\n",
        "def reverse_list_in_place(lst):\n",
        "    # Initialize two pointers: one at the beginning, one at the end\n",
        "    start = 0\n",
        "    end = len(lst) - 1\n",
        "\n",
        "    # Swap elements until the pointers meet in the middle\n",
        "    while start < end:\n",
        "        # Swap the elements at the start and end pointers\n",
        "        lst[start], lst[end] = lst[end], lst[start]\n",
        "\n",
        "        # Move the pointers toward each other\n",
        "        start += 1\n",
        "        end -= 1\n",
        "\n",
        "    return lst\n",
        "\n",
        "# Example usage:\n",
        "numbers = [1, 2, 3, 4, 5]\n",
        "reversed_list = reverse_list_in_place(numbers)\n",
        "print(\"Reversed list:\", reversed_list)\n"
      ],
      "metadata": {
        "id": "Dx_qOyJtvjor"
      },
      "execution_count": null,
      "outputs": []
    },
    {
      "cell_type": "code",
      "source": [
        "\"\"\"\n",
        "15.Implement a code to find and remove duplicates from a list while preserving the original order of\n",
        "elements.\n",
        "\"\"\"\n",
        "def remove_duplicates(lst):\n",
        "    # Create an empty set to keep track of seen elements\n",
        "    seen = set()\n",
        "    # Create a new list to store the result\n",
        "    result = []\n",
        "\n",
        "    # Iterate through the original list\n",
        "    for element in lst:\n",
        "        # If the element has not been seen before, add it to the result list\n",
        "        if element not in seen:\n",
        "            result.append(element)\n",
        "            # Mark the element as seen\n",
        "            seen.add(element)\n",
        "\n",
        "    return result\n",
        "\n",
        "# Example usage:\n",
        "numbers = [1, 2, 2, 3, 4, 3, 5, 5, 6]\n",
        "result = remove_duplicates(numbers)\n",
        "print(\"List after removing duplicates:\", result)\n"
      ],
      "metadata": {
        "id": "KcBea0WBv4uk"
      },
      "execution_count": null,
      "outputs": []
    },
    {
      "cell_type": "code",
      "source": [
        "# 16.Create a code to check if a given list is sorted (either in ascending or descending order) or not.\n",
        "def is_sorted(lst):\n",
        "    # Check if the list is sorted in ascending order\n",
        "    if lst == sorted(lst):\n",
        "        return \"Sorted in ascending order\"\n",
        "    # Check if the list is sorted in descending order\n",
        "    elif lst == sorted(lst, reverse=True):\n",
        "        return \"Sorted in descending order\"\n",
        "    else:\n",
        "        return \"Not sorted\"\n",
        "\n",
        "# Example usage:\n",
        "numbers = [1, 2, 3, 4, 5]\n",
        "result = is_sorted(numbers)\n",
        "print(result)\n",
        "\n",
        "numbers = [5, 4, 3, 2, 1]\n",
        "result = is_sorted(numbers)\n",
        "print(result)\n",
        "\n",
        "numbers = [1, 3, 2, 4, 5]\n",
        "result = is_sorted(numbers)\n",
        "print(result)\n"
      ],
      "metadata": {
        "id": "vuoTZgQRwVwe"
      },
      "execution_count": null,
      "outputs": []
    },
    {
      "cell_type": "code",
      "source": [
        "# 17.Write a code to merge two sorted lists into a single sorted list.\n",
        "def merge_sorted_lists(list1, list2):\n",
        "    # Initialize pointers for both lists\n",
        "    i, j = 0, 0\n",
        "    merged_list = []\n",
        "\n",
        "    # Traverse both lists and append the smaller element to the merged list\n",
        "    while i < len(list1) and j < len(list2):\n",
        "        if list1[i] < list2[j]:\n",
        "            merged_list.append(list1[i])\n",
        "            i += 1\n",
        "        else:\n",
        "            merged_list.append(list2[j])\n",
        "            j += 1\n",
        "\n",
        "    # If there are remaining elements in list1, append them to merged_list\n",
        "    while i < len(list1):\n",
        "        merged_list.append(list1[i])\n",
        "        i += 1\n",
        "\n",
        "    # If there are remaining elements in list2, append them to merged_list\n",
        "    while j < len(list2):\n",
        "        merged_list.append(list2[j])\n",
        "        j += 1\n",
        "\n",
        "    return merged_list\n",
        "\n",
        "# Example usage:\n",
        "list1 = [1, 3, 5, 7]\n",
        "list2 = [2, 4, 6, 8]\n",
        "result = merge_sorted_lists(list1, list2)\n",
        "print(\"Merged sorted list:\", result)\n"
      ],
      "metadata": {
        "id": "hNHf0bpswtmm"
      },
      "execution_count": null,
      "outputs": []
    },
    {
      "cell_type": "code",
      "source": [
        "# 18.Implement a code to find the intersection of two given lists.\n",
        "def intersection_of_lists(list1, list2):\n",
        "    # Convert the lists to sets to eliminate duplicates and find the intersection\n",
        "    set1 = set(list1)\n",
        "    set2 = set(list2)\n",
        "\n",
        "    # Find the intersection using set intersection operation\n",
        "    intersection = list(set1 & set2)\n",
        "\n",
        "    return intersection\n",
        "\n",
        "# Example usage:\n",
        "list1 = [1, 2, 3, 4, 5]\n",
        "list2 = [4, 5, 6, 7, 8]\n",
        "result = intersection_of_lists(list1, list2)\n",
        "print(\"Intersection of the two lists:\", result)\n"
      ],
      "metadata": {
        "id": "6VW5C0x3xPUK"
      },
      "execution_count": null,
      "outputs": []
    },
    {
      "cell_type": "code",
      "source": [
        "# 19.Create a code to find the union of two lists without duplicates.\n",
        "def union_of_lists(list1, list2):\n",
        "    # Convert the lists to sets to eliminate duplicates and find the union\n",
        "    set1 = set(list1)\n",
        "    set2 = set(list2)\n",
        "\n",
        "    # Find the union using set union operation\n",
        "    union = list(set1 | set2)\n",
        "\n",
        "    return union\n",
        "\n",
        "# Example usage:\n",
        "list1 = [1, 2, 3, 4, 5]\n",
        "list2 = [4, 5, 6, 7, 8]\n",
        "result = union_of_lists(list1, list2)\n",
        "print(\"Union of the two lists:\", result)\n"
      ],
      "metadata": {
        "id": "IUDXOcHNxh-1"
      },
      "execution_count": null,
      "outputs": []
    },
    {
      "cell_type": "code",
      "source": [
        "# 20.Write a code to shuffle a given list randomly without using any built-in shuffle functions.\n",
        "import random\n",
        "\n",
        "def shuffle_list(lst):\n",
        "    # Get the length of the list\n",
        "    n = len(lst)\n",
        "\n",
        "    # Loop through the list from the last element to the second element\n",
        "    for i in range(n-1, 0, -1):\n",
        "        # Generate a random index j such that 0 <= j <= i\n",
        "        j = random.randint(0, i)\n",
        "\n",
        "        # Swap the elements at index i and j\n",
        "        lst[i], lst[j] = lst[j], lst[i]\n",
        "\n",
        "    return lst\n",
        "\n",
        "# Example usage:\n",
        "numbers = [1, 2, 3, 4, 5]\n",
        "shuffled_list = shuffle_list(numbers)\n",
        "print(\"Shuffled list:\", shuffled_list)\n"
      ],
      "metadata": {
        "id": "-kd-RuZBx8qN"
      },
      "execution_count": null,
      "outputs": []
    },
    {
      "cell_type": "code",
      "source": [
        "\"\"\"\n",
        "21.Write a code that takes two tuples as input and returns a new tuple containing elements that are\n",
        "common to both input tuples.\n",
        "\"\"\"\n",
        "def common_elements(tuple1, tuple2):\n",
        "    # Convert the tuples to sets to find the common elements\n",
        "    set1 = set(tuple1)\n",
        "    set2 = set(tuple2)\n",
        "\n",
        "    # Find the intersection of the two sets\n",
        "    common = set1 & set2\n",
        "\n",
        "    # Convert the set back to a tuple and return\n",
        "    return tuple(common)\n",
        "\n",
        "# Example usage:\n",
        "tuple1 = (1, 2, 3, 4, 5)\n",
        "tuple2 = (4, 5, 6, 7, 8)\n",
        "result = common_elements(tuple1, tuple2)\n",
        "print(\"Common elements:\", result)\n"
      ],
      "metadata": {
        "id": "6MmtQ_jGyVvj"
      },
      "execution_count": null,
      "outputs": []
    },
    {
      "cell_type": "code",
      "source": [
        "\"\"\"\n",
        "22.Create a code that prompts the user to enter two sets of integers separated by commas. Then, print the\n",
        "intersection of these two sets\n",
        "\"\"\"\n",
        "def get_set_input(prompt):\n",
        "    # Prompt the user to enter a set of integers\n",
        "    user_input = input(prompt)\n",
        "\n",
        "    # Convert the input string to a list of integers\n",
        "    user_input_list = [int(x) for x in user_input.split(',')]\n",
        "\n",
        "    # Convert the list to a set and return it\n",
        "    return set(user_input_list)\n",
        "\n",
        "def main():\n",
        "    # Get two sets of integers from the user\n",
        "    set1 = get_set_input(\"Enter the first set of integers (separated by commas): \")\n",
        "    set2 = get_set_input(\"Enter the second set of integers (separated by commas): \")\n",
        "\n",
        "    # Find the intersection of the two sets\n",
        "    intersection = set1 & set2\n",
        "\n",
        "    # Print the intersection\n",
        "    print(\"The intersection of the two sets is:\", intersection)\n",
        "\n",
        "# Run the program\n",
        "main()\n"
      ],
      "metadata": {
        "id": "_HolJpNgyrr4"
      },
      "execution_count": null,
      "outputs": []
    },
    {
      "cell_type": "code",
      "source": [
        "\"\"\"\n",
        "23.Write a code to concatenate two tuples. The function should take two tuples as input and return a new\n",
        "tuple containing elements from both input tuples.\n",
        "\"\"\"\n",
        "def concatenate_tuples(tuple1, tuple2):\n",
        "    # Concatenate the two tuples using the '+' operator\n",
        "    return tuple1 + tuple2\n",
        "\n",
        "# Example usage:\n",
        "tuple1 = (1, 2, 3)\n",
        "tuple2 = (4, 5, 6)\n",
        "result = concatenate_tuples(tuple1, tuple2)\n",
        "print(\"Concatenated tuple:\", result)\n"
      ],
      "metadata": {
        "id": "m7RrONnpzVwW"
      },
      "execution_count": null,
      "outputs": []
    },
    {
      "cell_type": "code",
      "source": [
        "\"\"\"\n",
        "24.Develop a code that prompts the user to input two sets of strings. Then, print the elements that are\n",
        "present in the first set but not in the second set.\n",
        "\"\"\"\n",
        "def get_set_input(prompt):\n",
        "    # Prompt the user to enter a set of strings\n",
        "    user_input = input(prompt)\n",
        "\n",
        "    # Convert the input string to a list of strings\n",
        "    user_input_list = [x.strip() for x in user_input.split(',')]\n",
        "\n",
        "    # Convert the list to a set and return it\n",
        "    return set(user_input_list)\n",
        "\n",
        "def main():\n",
        "    # Get two sets of strings from the user\n",
        "    set1 = get_set_input(\"Enter the first set of strings (separated by commas): \")\n",
        "    set2 = get_set_input(\"Enter the second set of strings (separated by commas): \")\n",
        "\n",
        "    # Find the elements that are in set1 but not in set2\n",
        "    difference = set1 - set2\n",
        "\n",
        "    # Print the difference\n",
        "    print(\"Elements present in the first set but not in the second set:\", difference)\n",
        "\n",
        "# Run the program\n",
        "main()\n"
      ],
      "metadata": {
        "id": "lqgSOi2Wz7M3"
      },
      "execution_count": null,
      "outputs": []
    },
    {
      "cell_type": "code",
      "source": [
        "\"\"\"\n",
        "25.Create a code that takes a tuple and two integers as input. The function should return a new tuple\n",
        "containing elements from the original tuple within the specified range of indices.\n",
        "\"\"\"\n",
        "def get_elements_in_range(tup, start_idx, end_idx):\n",
        "    # Slice the tuple from start_idx to end_idx (inclusive of start_idx and exclusive of end_idx)\n",
        "    return tup[start_idx:end_idx]\n",
        "\n",
        "# Example usage:\n",
        "original_tuple = (10, 20, 30, 40, 50, 60, 70)\n",
        "start_index = int(input(\"Enter the start index: \"))\n",
        "end_index = int(input(\"Enter the end index: \"))\n",
        "\n",
        "result = get_elements_in_range(original_tuple, start_index, end_index)\n",
        "print(\"The new tuple containing elements in the specified range:\", result)\n"
      ],
      "metadata": {
        "id": "-33A4mVz0UK6"
      },
      "execution_count": null,
      "outputs": []
    },
    {
      "cell_type": "code",
      "source": [
        "# 26.Write a code that prompts the user to input two sets of characters. Then, print the union of these two sets.\n",
        "def get_set_input(prompt):\n",
        "    # Prompt the user to enter a set of characters\n",
        "    user_input = input(prompt)\n",
        "\n",
        "    # Convert the input string to a set of characters\n",
        "    user_input_set = set(user_input.strip())  # Strip any leading/trailing spaces and convert to set\n",
        "\n",
        "    return user_input_set\n",
        "\n",
        "def main():\n",
        "    # Get two sets of characters from the user\n",
        "    set1 = get_set_input(\"Enter the first set of characters: \")\n",
        "    set2 = get_set_input(\"Enter the second set of characters: \")\n",
        "\n",
        "    # Find the union of the two sets\n",
        "    union_set = set1 | set2  # Union operator\n",
        "\n",
        "    # Print the union of the sets\n",
        "    print(\"The union of the two sets is:\", union_set)\n",
        "\n",
        "# Run the program\n",
        "main()\n"
      ],
      "metadata": {
        "id": "RTVu0LE70yM0"
      },
      "execution_count": null,
      "outputs": []
    },
    {
      "cell_type": "code",
      "source": [
        "'''\n",
        "27. Develop a code that takes a tuple of integers as input. The function should return the maximum and\n",
        "minimum values from the tuple using tuple unpacking.\n",
        "'''\n",
        "def find_max_min(tup):\n",
        "    # Use tuple unpacking to assign the maximum and minimum values\n",
        "    max_val, min_val = max(tup), min(tup)\n",
        "\n",
        "    return max_val, min_val\n",
        "\n",
        "# Example usage:\n",
        "# Taking a tuple of integers as input\n",
        "input_tuple = tuple(map(int, input(\"Enter a tuple of integers (comma separated): \").split(',')))\n",
        "\n",
        "# Calling the function to find maximum and minimum values\n",
        "max_value, min_value = find_max_min(input_tuple)\n",
        "\n",
        "# Printing the results\n",
        "print(f\"The maximum value is: {max_value}\")\n",
        "print(f\"The minimum value is: {min_value}\")\n"
      ],
      "metadata": {
        "id": "Inr1IBcf1HmP"
      },
      "execution_count": null,
      "outputs": []
    },
    {
      "cell_type": "code",
      "source": [
        "\"\"\"\n",
        "28.Create a code that defines two sets of integers. Then, print the union, intersection, and difference of these\n",
        "two sets.\n",
        "\"\"\"\n",
        "def set_operations(set1, set2):\n",
        "    # Union of the two sets\n",
        "    union = set1 | set2\n",
        "    # Intersection of the two sets\n",
        "    intersection = set1 & set2\n",
        "    # Difference between the two sets (elements in set1 but not in set2)\n",
        "    difference = set1 - set2\n",
        "\n",
        "    return union, intersection, difference\n",
        "\n",
        "# Define two sets of integers\n",
        "set1 = {1, 2, 3, 4, 5}\n",
        "set2 = {4, 5, 6, 7, 8}\n",
        "\n",
        "# Perform set operations\n",
        "union_set, intersection_set, difference_set = set_operations(set1, set2)\n",
        "\n",
        "# Print the results\n",
        "print(\"Union of the two sets:\", union_set)\n",
        "print(\"Intersection of the two sets:\", intersection_set)\n",
        "print(\"Difference of the two sets (set1 - set2):\", difference_set)\n"
      ],
      "metadata": {
        "id": "uo288esq1itO"
      },
      "execution_count": null,
      "outputs": []
    },
    {
      "cell_type": "code",
      "source": [
        "\"\"\"\n",
        "29.Write a code that takes a tuple and an element as input. The function should return the count of\n",
        "occurrences of the given element in the tuple.\n",
        "\"\"\"\n",
        "def count_occurrences(tup, element):\n",
        "    # Return the count of occurrences of 'element' in 'tup'\n",
        "    return tup.count(element)\n",
        "\n",
        "# Example usage:\n",
        "# Taking a tuple and element as input from the user\n",
        "input_tuple = tuple(map(int, input(\"Enter a tuple of integers (comma separated): \").split(',')))\n",
        "element = int(input(\"Enter the element to count its occurrences: \"))\n",
        "\n",
        "# Call the function and print the result\n",
        "count = count_occurrences(input_tuple, element)\n",
        "print(f\"The element {element} appears {count} times in the tuple.\")\n"
      ],
      "metadata": {
        "id": "1DkGM0LZ182n"
      },
      "execution_count": null,
      "outputs": []
    },
    {
      "cell_type": "code",
      "source": [
        "\"\"\"\n",
        "30.Develop a code that prompts the user to input two sets of strings. Then, print the symmetric difference of\n",
        "these two sets.\n",
        "\"\"\"\n",
        "def get_set_input(prompt):\n",
        "    # Prompt the user to enter a set of strings\n",
        "    user_input = input(prompt)\n",
        "\n",
        "    # Convert the input string to a set of strings\n",
        "    user_input_set = set(user_input.strip().split(','))  # Split by commas and convert to a set\n",
        "\n",
        "    return user_input_set\n",
        "\n",
        "def main():\n",
        "    # Get two sets of strings from the user\n",
        "    set1 = get_set_input(\"Enter the first set of strings (comma separated): \")\n",
        "    set2 = get_set_input(\"Enter the second set of strings (comma separated): \")\n",
        "\n",
        "    # Find the symmetric difference of the two sets\n",
        "    symmetric_difference = set1 ^ set2  # Symmetric difference operator (^)\n",
        "\n",
        "    # Print the symmetric difference\n",
        "    print(\"The symmetric difference of the two sets is:\", symmetric_difference)\n",
        "\n",
        "# Run the program\n",
        "main()\n"
      ],
      "metadata": {
        "id": "BUbxutVt2WKD"
      },
      "execution_count": null,
      "outputs": []
    },
    {
      "cell_type": "code",
      "source": [
        "\"\"\"\n",
        "31. Write a code that takes a list of words as input and returns a dictionary where the keys are unique words\n",
        "and the values are the frequencies of those words in the input list.\n",
        "\"\"\"\n",
        "def word_frequencies(word_list):\n",
        "    # Create an empty dictionary to store word frequencies\n",
        "    frequency_dict = {}\n",
        "\n",
        "    # Iterate through the list of words\n",
        "    for word in word_list:\n",
        "        # If the word is already in the dictionary, increment its count\n",
        "        if word in frequency_dict:\n",
        "            frequency_dict[word] += 1\n",
        "        else:\n",
        "            # Otherwise, add the word to the dictionary with a count of 1\n",
        "            frequency_dict[word] = 1\n",
        "\n",
        "    return frequency_dict\n",
        "\n",
        "# Example usage:\n",
        "# Taking a list of words as input from the user\n",
        "input_words = input(\"Enter a list of words (comma separated): \").split(',')\n",
        "\n",
        "# Strip leading/trailing spaces from each word\n",
        "input_words = [word.strip() for word in input_words]\n",
        "\n",
        "# Call the function to get the word frequencies\n",
        "result = word_frequencies(input_words)\n",
        "\n",
        "# Print the result\n",
        "print(\"Word frequencies:\", result)\n"
      ],
      "metadata": {
        "id": "HQQ-bwaY2xRj"
      },
      "execution_count": null,
      "outputs": []
    },
    {
      "cell_type": "code",
      "source": [
        "\"\"\"\n",
        "32.Write a code that takes two dictionaries as input and merges them into a single dictionary. If there are\n",
        "common keys, the values should be added together.\n",
        "\"\"\"\n",
        "def merge_dicts(dict1, dict2):\n",
        "    # Merge the two dictionaries\n",
        "    merged_dict = dict1.copy()  # Make a copy of the first dictionary to avoid modifying it\n",
        "    for key, value in dict2.items():\n",
        "        if key in merged_dict:\n",
        "            # If the key exists in both dictionaries, add the values\n",
        "            merged_dict[key] += value\n",
        "        else:\n",
        "            # Otherwise, just add the key-value pair\n",
        "            merged_dict[key] = value\n",
        "    return merged_dict\n",
        "\n",
        "# Example usage:\n",
        "# Taking two dictionaries as input from the user\n",
        "dict1 = eval(input(\"Enter the first dictionary: \"))\n",
        "dict2 = eval(input(\"Enter the second dictionary: \"))\n",
        "\n",
        "# Call the function to merge the dictionaries\n",
        "result = merge_dicts(dict1, dict2)\n",
        "\n",
        "# Print the merged dictionary\n",
        "print(\"Merged dictionary:\", result)\n"
      ],
      "metadata": {
        "id": "8uGPbLko3Kw5"
      },
      "execution_count": null,
      "outputs": []
    },
    {
      "cell_type": "code",
      "source": [
        "\"\"\"\n",
        "33.Write a code to access a value in a nested dictionary. The function should take the dictionary and a list of\n",
        "keys as input, and return the corresponding value. If any of the keys do not exist in the dictionary, the\n",
        "function should return None.\n",
        "\"\"\"\n",
        "def access_nested_dict_value(nested_dict, keys):\n",
        "    # Iterate over the list of keys to access the nested values\n",
        "    for key in keys:\n",
        "        # Check if the key exists in the dictionary\n",
        "        if isinstance(nested_dict, dict) and key in nested_dict:\n",
        "            nested_dict = nested_dict[key]  # Update nested_dict to the next level\n",
        "        else:\n",
        "            return None  # Return None if the key does not exist\n",
        "    return nested_dict  # Return the final value if all keys exist\n",
        "\n",
        "# Example usage:\n",
        "# Define a nested dictionary\n",
        "nested_dict = {\n",
        "    'a': {\n",
        "        'b': {\n",
        "            'c': 5\n",
        "        }\n",
        "    },\n",
        "    'x': {\n",
        "        'y': 10\n",
        "    }\n",
        "}\n",
        "\n",
        "# Take the list of keys as input\n",
        "keys = input(\"Enter the list of keys (comma separated): \").split(',')\n",
        "\n",
        "# Strip any extra spaces from each key\n",
        "keys = [key.strip() for key in keys]\n",
        "\n",
        "# Call the function to access the value\n",
        "result = access_nested_dict_value(nested_dict, keys)\n",
        "\n",
        "# Print the result\n",
        "if result is None:\n",
        "    print(\"The keys do not exist in the nested dictionary.\")\n",
        "else:\n",
        "    print(\"The corresponding value is:\", result)\n"
      ],
      "metadata": {
        "id": "SGfrXMzK3iPZ"
      },
      "execution_count": null,
      "outputs": []
    },
    {
      "cell_type": "code",
      "source": [
        "\"\"\"\n",
        "34.Write a code that takes a dictionary as input and returns a sorted version of it based on the values. You\n",
        "can choose whether to sort in ascending or descending order.\n",
        "\"\"\"\n",
        "def sort_dict_by_value(input_dict, reverse=False):\n",
        "    # Sort the dictionary by values (ascending or descending)\n",
        "    sorted_dict = dict(sorted(input_dict.items(), key=lambda item: item[1], reverse=reverse))\n",
        "    return sorted_dict\n",
        "\n",
        "# Example usage:\n",
        "# Taking a dictionary as input from the user\n",
        "input_dict = eval(input(\"Enter the dictionary (e.g., {'a': 3, 'b': 1, 'c': 2}): \"))\n",
        "\n",
        "# Asking the user whether they want to sort in ascending or descending order\n",
        "order = input(\"Enter 'asc' for ascending or 'desc' for descending order: \").strip().lower()\n",
        "\n",
        "# Determine the reverse flag based on user input\n",
        "reverse = True if order == 'desc' else False\n",
        "\n",
        "# Call the function to sort the dictionary\n",
        "sorted_dict = sort_dict_by_value(input_dict, reverse)\n",
        "\n",
        "# Print the sorted dictionary\n",
        "print(\"Sorted dictionary:\", sorted_dict)\n"
      ],
      "metadata": {
        "id": "Os18j9yy363R"
      },
      "execution_count": null,
      "outputs": []
    },
    {
      "cell_type": "code",
      "source": [
        "\"\"\"\n",
        "35.Write a code that inverts a dictionary, swapping keys and values. Ensure that the inverted dictionary\n",
        "correctly handles cases where multiple keys have the same value by storing the keys as a list in the\n",
        "inverted dictionary.\n",
        "\"\"\"\n",
        "def invert_dict(input_dict):\n",
        "    inverted_dict = {}\n",
        "\n",
        "    # Iterate through the input dictionary\n",
        "    for key, value in input_dict.items():\n",
        "        if value not in inverted_dict:\n",
        "            # If the value is not in inverted_dict, add it with the key as a list\n",
        "            inverted_dict[value] = [key]\n",
        "        else:\n",
        "            # If the value is already in inverted_dict, append the key to the list\n",
        "            inverted_dict[value].append(key)\n",
        "\n",
        "    return inverted_dict\n",
        "\n",
        "# Example usage:\n",
        "# Taking a dictionary as input from the user\n",
        "input_dict = eval(input(\"Enter the dictionary (e.g., {'a': 1, 'b': 2, 'c': 1}): \"))\n",
        "\n",
        "# Call the function to invert the dictionary\n",
        "inverted_dict = invert_dict(input_dict)\n",
        "\n",
        "# Print the inverted dictionary\n",
        "print(\"Inverted dictionary:\", inverted_dict)\n"
      ],
      "metadata": {
        "id": "N0xUuNGo4Z-X"
      },
      "execution_count": null,
      "outputs": []
    }
  ]
}